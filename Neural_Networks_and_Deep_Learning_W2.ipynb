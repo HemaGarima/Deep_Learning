{
  "nbformat": 4,
  "nbformat_minor": 0,
  "metadata": {
    "colab": {
      "provenance": [],
      "gpuType": "T4"
    },
    "kernelspec": {
      "name": "python3",
      "display_name": "Python 3"
    },
    "language_info": {
      "name": "python"
    },
    "accelerator": "GPU"
  },
  "cells": [
    {
      "cell_type": "markdown",
      "source": [
        "# Python Basics with Numpy"
      ],
      "metadata": {
        "id": "liE_e9VswApD"
      }
    },
    {
      "cell_type": "code",
      "execution_count": 1,
      "metadata": {
        "colab": {
          "base_uri": "https://localhost:8080/"
        },
        "id": "F04969SzvHyx",
        "outputId": "e5ef62b9-fbd3-4cb3-9171-4e0643db6263"
      },
      "outputs": [
        {
          "output_type": "stream",
          "name": "stdout",
          "text": [
            "test : Hello World\n"
          ]
        }
      ],
      "source": [
        "test = \"Hello World\"\n",
        "print(\"test : \" + test)"
      ]
    },
    {
      "cell_type": "code",
      "source": [
        "# GRADED FUNCTION : basic_sigmoid\n",
        "\n",
        "import math\n",
        "\n",
        "def basic_sigmoid(x):\n",
        "  \"\"\"\n",
        "  Compute sigmoid of x.\n",
        "\n",
        "  Arguments :\n",
        "  x -- A scalar\n",
        "\n",
        "  Return :\n",
        "  s -- sigmoid(x)\n",
        "  \"\"\"\n",
        "\n",
        "  s = (1/(1 + math.exp(-x)))\n",
        "  return s"
      ],
      "metadata": {
        "id": "gShXgTVXyCnJ"
      },
      "execution_count": 2,
      "outputs": []
    },
    {
      "cell_type": "code",
      "source": [
        "basic_sigmoid(3)"
      ],
      "metadata": {
        "colab": {
          "base_uri": "https://localhost:8080/"
        },
        "id": "Fe000C9Dwnsg",
        "outputId": "aac36d0a-fba3-4063-9885-b394acc0d30c"
      },
      "execution_count": 3,
      "outputs": [
        {
          "output_type": "execute_result",
          "data": {
            "text/plain": [
              "0.9525741268224334"
            ]
          },
          "metadata": {},
          "execution_count": 3
        }
      ]
    },
    {
      "cell_type": "code",
      "source": [
        "basic_sigmoid(1)"
      ],
      "metadata": {
        "colab": {
          "base_uri": "https://localhost:8080/"
        },
        "id": "h3gORITayjqo",
        "outputId": "a65eda4f-f1ef-4562-9080-0101e021a33a"
      },
      "execution_count": 4,
      "outputs": [
        {
          "output_type": "execute_result",
          "data": {
            "text/plain": [
              "0.7310585786300049"
            ]
          },
          "metadata": {},
          "execution_count": 4
        }
      ]
    },
    {
      "cell_type": "code",
      "source": [
        "x = [1 , 2 , 3]\n",
        "basic_sigmoid(x)"
      ],
      "metadata": {
        "colab": {
          "base_uri": "https://localhost:8080/",
          "height": 263
        },
        "id": "KqGZek3symN2",
        "outputId": "c155701c-35dd-4970-dabd-6ffb2132cbb5"
      },
      "execution_count": 5,
      "outputs": [
        {
          "output_type": "error",
          "ename": "TypeError",
          "evalue": "bad operand type for unary -: 'list'",
          "traceback": [
            "\u001b[0;31m---------------------------------------------------------------------------\u001b[0m",
            "\u001b[0;31mTypeError\u001b[0m                                 Traceback (most recent call last)",
            "\u001b[0;32m<ipython-input-5-3fff9503800e>\u001b[0m in \u001b[0;36m<cell line: 2>\u001b[0;34m()\u001b[0m\n\u001b[1;32m      1\u001b[0m \u001b[0mx\u001b[0m \u001b[0;34m=\u001b[0m \u001b[0;34m[\u001b[0m\u001b[0;36m1\u001b[0m \u001b[0;34m,\u001b[0m \u001b[0;36m2\u001b[0m \u001b[0;34m,\u001b[0m \u001b[0;36m3\u001b[0m\u001b[0;34m]\u001b[0m\u001b[0;34m\u001b[0m\u001b[0;34m\u001b[0m\u001b[0m\n\u001b[0;32m----> 2\u001b[0;31m \u001b[0mbasic_sigmoid\u001b[0m\u001b[0;34m(\u001b[0m\u001b[0mx\u001b[0m\u001b[0;34m)\u001b[0m\u001b[0;34m\u001b[0m\u001b[0;34m\u001b[0m\u001b[0m\n\u001b[0m",
            "\u001b[0;32m<ipython-input-2-41d6fa5622fd>\u001b[0m in \u001b[0;36mbasic_sigmoid\u001b[0;34m(x)\u001b[0m\n\u001b[1;32m     14\u001b[0m   \"\"\"\n\u001b[1;32m     15\u001b[0m \u001b[0;34m\u001b[0m\u001b[0m\n\u001b[0;32m---> 16\u001b[0;31m   \u001b[0ms\u001b[0m \u001b[0;34m=\u001b[0m \u001b[0;34m(\u001b[0m\u001b[0;36m1\u001b[0m\u001b[0;34m/\u001b[0m\u001b[0;34m(\u001b[0m\u001b[0;36m1\u001b[0m \u001b[0;34m+\u001b[0m \u001b[0mmath\u001b[0m\u001b[0;34m.\u001b[0m\u001b[0mexp\u001b[0m\u001b[0;34m(\u001b[0m\u001b[0;34m-\u001b[0m\u001b[0mx\u001b[0m\u001b[0;34m)\u001b[0m\u001b[0;34m)\u001b[0m\u001b[0;34m)\u001b[0m\u001b[0;34m\u001b[0m\u001b[0;34m\u001b[0m\u001b[0m\n\u001b[0m\u001b[1;32m     17\u001b[0m   \u001b[0;32mreturn\u001b[0m \u001b[0ms\u001b[0m\u001b[0;34m\u001b[0m\u001b[0;34m\u001b[0m\u001b[0m\n",
            "\u001b[0;31mTypeError\u001b[0m: bad operand type for unary -: 'list'"
          ]
        }
      ]
    },
    {
      "cell_type": "code",
      "source": [
        "# In fact , if x = (x1 , x2 , ... , xn) is a row vector then np.exp(x) will apply the exponential function to every element of x . The output will thus be : np.exp(x) = (e^x1 , e^x2 , e^x3)"
      ],
      "metadata": {
        "id": "7z5FAQV8y3wU"
      },
      "execution_count": 6,
      "outputs": []
    },
    {
      "cell_type": "code",
      "source": [
        "import numpy as np\n",
        "\n",
        "x = np.array([1,2,3])\n",
        "print(np.exp(x))"
      ],
      "metadata": {
        "colab": {
          "base_uri": "https://localhost:8080/"
        },
        "id": "VgiAppZozcTy",
        "outputId": "e9548d88-b1e2-418b-f70c-e4e11e2139eb"
      },
      "execution_count": 7,
      "outputs": [
        {
          "output_type": "stream",
          "name": "stdout",
          "text": [
            "[ 2.71828183  7.3890561  20.08553692]\n"
          ]
        }
      ]
    },
    {
      "cell_type": "code",
      "source": [
        "x = 1\n",
        "print(np.exp(x))"
      ],
      "metadata": {
        "colab": {
          "base_uri": "https://localhost:8080/"
        },
        "id": "xQwWxgAEzyCZ",
        "outputId": "d1993ee3-b27b-4761-b014-90e33687e677"
      },
      "execution_count": 8,
      "outputs": [
        {
          "output_type": "stream",
          "name": "stdout",
          "text": [
            "2.718281828459045\n"
          ]
        }
      ]
    },
    {
      "cell_type": "code",
      "source": [
        "x = np.array([1,2,3])\n",
        "print(x + 3)"
      ],
      "metadata": {
        "colab": {
          "base_uri": "https://localhost:8080/"
        },
        "id": "ojgddpkmz2Aq",
        "outputId": "473e2481-8306-43a8-aa38-d4461a98351c"
      },
      "execution_count": 9,
      "outputs": [
        {
          "output_type": "stream",
          "name": "stdout",
          "text": [
            "[4 5 6]\n"
          ]
        }
      ]
    },
    {
      "cell_type": "code",
      "source": [
        "# GRADED FUNCTION : sigmoid\n",
        "\n",
        "def sigmoid(x):\n",
        "  s = 1/(np.exp(-x)  + 1)\n",
        "  return s"
      ],
      "metadata": {
        "id": "1oPYtMEM0Ecq"
      },
      "execution_count": 10,
      "outputs": []
    },
    {
      "cell_type": "code",
      "source": [
        "x = np.array([1,2,3])\n",
        "sigmoid(x)"
      ],
      "metadata": {
        "colab": {
          "base_uri": "https://localhost:8080/"
        },
        "id": "Eb3SQ8Mg0zXS",
        "outputId": "85b6340d-7bfc-4480-da9c-07f2eea043b7"
      },
      "execution_count": 11,
      "outputs": [
        {
          "output_type": "execute_result",
          "data": {
            "text/plain": [
              "array([0.73105858, 0.88079708, 0.95257413])"
            ]
          },
          "metadata": {},
          "execution_count": 11
        }
      ]
    },
    {
      "cell_type": "code",
      "source": [
        "# GRADED FUNCTION : sigmoid_derivative\n",
        "\n",
        "def sigmoid_derivative(x):\n",
        "  s = sigmoid(x)\n",
        "  ds = s*(1-s)\n",
        "  return ds"
      ],
      "metadata": {
        "id": "OXmWv4bY07KK"
      },
      "execution_count": 12,
      "outputs": []
    },
    {
      "cell_type": "code",
      "source": [
        "x = np.array([1,2,3])\n",
        "print(\"sigmoid_derivative(x) = \" + str(sigmoid_derivative(x)))"
      ],
      "metadata": {
        "colab": {
          "base_uri": "https://localhost:8080/"
        },
        "id": "kIEyoECl6uzd",
        "outputId": "91e7823f-4455-403a-e6e2-6537cf2fe80b"
      },
      "execution_count": 13,
      "outputs": [
        {
          "output_type": "stream",
          "name": "stdout",
          "text": [
            "sigmoid_derivative(x) = [0.19661193 0.10499359 0.04517666]\n"
          ]
        }
      ]
    },
    {
      "cell_type": "code",
      "source": [
        "# GRADED FUNCTION : image2vector\n",
        "\n",
        "def image2vector(image):\n",
        "  v = image.reshape(image.shape[0]* image.shape[1]* image.shape[2],1)\n",
        "  return v"
      ],
      "metadata": {
        "id": "1rrN_Rfz7Bvr"
      },
      "execution_count": 14,
      "outputs": []
    },
    {
      "cell_type": "code",
      "source": [
        "image = np.array([[[0.67826139 , 0.29380381],[0.90714982 , 0.52835647],[0.4215251 ,  0.45017551]],[[0.92814219,  0.96677647],[0.85304703,  0.52351845],[0.19981397,  0.27417313]],[[0.60659855,  0.00533165],[0.10820313,  0.49978937],[0.34144279,  0.94630077]]])\n",
        "\n",
        "print(\"image2vector(image) = \" + str(image2vector(image)))"
      ],
      "metadata": {
        "colab": {
          "base_uri": "https://localhost:8080/"
        },
        "id": "xUgmrpTi8UYp",
        "outputId": "dd65859d-c6e0-49fa-baff-ee1e151244fa"
      },
      "execution_count": 16,
      "outputs": [
        {
          "output_type": "stream",
          "name": "stdout",
          "text": [
            "image2vector(image) = [[0.67826139]\n",
            " [0.29380381]\n",
            " [0.90714982]\n",
            " [0.52835647]\n",
            " [0.4215251 ]\n",
            " [0.45017551]\n",
            " [0.92814219]\n",
            " [0.96677647]\n",
            " [0.85304703]\n",
            " [0.52351845]\n",
            " [0.19981397]\n",
            " [0.27417313]\n",
            " [0.60659855]\n",
            " [0.00533165]\n",
            " [0.10820313]\n",
            " [0.49978937]\n",
            " [0.34144279]\n",
            " [0.94630077]]\n"
          ]
        }
      ]
    },
    {
      "cell_type": "markdown",
      "source": [
        "## Normalizing"
      ],
      "metadata": {
        "id": "diFJ28aR-IS8"
      }
    },
    {
      "cell_type": "code",
      "source": [
        "# Gradient descent converges faster after normalization which leads to better performance."
      ],
      "metadata": {
        "id": "G1mRyUHt9ZVd"
      },
      "execution_count": 17,
      "outputs": []
    },
    {
      "cell_type": "code",
      "source": [
        "# By normalization we mean changin x to x/||x|| (dividing each row vector of x by its norm)."
      ],
      "metadata": {
        "id": "f-_Z8fIP-Ye9"
      },
      "execution_count": 18,
      "outputs": []
    },
    {
      "cell_type": "code",
      "source": [
        "# GRADED FUNCTION : normalizeRows\n",
        "\n",
        "def normalizeRows(x):\n",
        "  x_norm = np.linalg.norm(x , axis = 1 , keepdims = True)\n",
        "  x = x/x_norm\n",
        "  return x"
      ],
      "metadata": {
        "id": "tqQ6E3wc-xam"
      },
      "execution_count": 19,
      "outputs": []
    },
    {
      "cell_type": "code",
      "source": [
        "x = np.array([[0,3,4] , [1,6,4]])\n",
        "print(\"normalizeRows(x) = \" + str(normalizeRows(x)))"
      ],
      "metadata": {
        "colab": {
          "base_uri": "https://localhost:8080/"
        },
        "id": "_7Hfz_naADln",
        "outputId": "676cf3cb-f336-4adc-8cec-b641b1f7de31"
      },
      "execution_count": 20,
      "outputs": [
        {
          "output_type": "stream",
          "name": "stdout",
          "text": [
            "normalizeRows(x) = [[0.         0.6        0.8       ]\n",
            " [0.13736056 0.82416338 0.54944226]]\n"
          ]
        }
      ]
    },
    {
      "cell_type": "markdown",
      "source": [
        "## Broadcasting and the softmax function"
      ],
      "metadata": {
        "id": "5VQtpaLsAmNr"
      }
    },
    {
      "cell_type": "code",
      "source": [
        "# GRADED FUNCTION : softmax\n",
        "\n",
        "def softmax(x):\n",
        "  x_exp = np.exp(x)\n",
        "  x_sum = np.sum(x_exp , axis = 1 , keepdims = True)\n",
        "  s = x_exp/x_sum\n",
        "  return s"
      ],
      "metadata": {
        "id": "A_3qkef7AWtU"
      },
      "execution_count": 23,
      "outputs": []
    },
    {
      "cell_type": "code",
      "source": [
        "x = np.array([[9,2,5,0,0],[7,5,0,0,0]])\n",
        "print(\"softmax(x) = \" + str(softmax(x)))"
      ],
      "metadata": {
        "colab": {
          "base_uri": "https://localhost:8080/"
        },
        "id": "-7fotptECsJ7",
        "outputId": "c3be4b69-7104-4a84-8a7b-dcf443c1ebce"
      },
      "execution_count": 24,
      "outputs": [
        {
          "output_type": "stream",
          "name": "stdout",
          "text": [
            "softmax(x) = [[9.80897665e-01 8.94462891e-04 1.79657674e-02 1.21052389e-04\n",
            "  1.21052389e-04]\n",
            " [8.78679856e-01 1.18916387e-01 8.01252314e-04 8.01252314e-04\n",
            "  8.01252314e-04]]\n"
          ]
        }
      ]
    },
    {
      "cell_type": "code",
      "source": [],
      "metadata": {
        "id": "gCXILE0IDg19"
      },
      "execution_count": null,
      "outputs": []
    }
  ]
}